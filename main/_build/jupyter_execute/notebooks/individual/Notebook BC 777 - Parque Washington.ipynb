{
 "cells": [
  {
   "attachments": {},
   "cell_type": "markdown",
   "metadata": {
    "tags": []
   },
   "source": [
    "# BC 777 - Parque Washington"
   ]
  },
  {
   "cell_type": "code",
   "execution_count": 1,
   "metadata": {
    "tags": [
     "remove-cell"
    ]
   },
   "outputs": [],
   "source": [
    "DEVICE_NAME = 'BC 777 - Parque Washington'\n",
    "import warnings\n",
    "warnings.filterwarnings(\"ignore\")"
   ]
  },
  {
   "cell_type": "code",
   "execution_count": 2,
   "metadata": {
    "tags": [
     "remove-cell"
    ]
   },
   "outputs": [],
   "source": [
    "import pandas as pd\n",
    "import numpy as np\n",
    "import datetime as dt\n",
    "import json\n",
    "import locale\n",
    "import plotly.io as pio\n",
    "import plotly.graph_objects as go\n",
    "import plotly.express as px\n",
    "import pyppdf.patch_pyppeteer\n",
    "\n",
    "pio.renderers.default = \"notebook\"\n",
    "pio.templates.default = \"plotly_white\"\n",
    "\n",
    "\n",
    "# this enables relative path imports\n",
    "import os\n",
    "from dotenv import load_dotenv\n",
    "load_dotenv()\n",
    "_PROJECT_PATH: str = os.environ[\"_project_path\"]\n",
    "_PICKLED_DATA_FILENAME: str = os.environ[\"_pickled_data_filename\"]\n",
    "\n",
    "import sys\n",
    "from pathlib import Path\n",
    "project_path = Path(_PROJECT_PATH)\n",
    "sys.path.append(str(project_path))\n",
    "\n",
    "import config_v2 as cfg\n",
    "\n",
    "from library_report_v2 import Cleaning as cln\n",
    "from library_report_v2 import Graphing as grp\n",
    "from library_report_v2 import Processing as pro\n",
    "from library_report_v2 import Configuration as repcfg"
   ]
  },
  {
   "attachments": {},
   "cell_type": "markdown",
   "metadata": {
    "tags": [
     "remove-cell"
    ]
   },
   "source": [
    "## Functions"
   ]
  },
  {
   "cell_type": "code",
   "execution_count": 3,
   "metadata": {
    "tags": [
     "remove-cell"
    ]
   },
   "outputs": [],
   "source": [
    "def show_response_contents(df):\n",
    "    print(\"The response contains:\")\n",
    "    print(json.dumps(list(df['variable'].unique()), sort_keys=True, indent=4))\n",
    "    print(json.dumps(list(df['device'].unique()), sort_keys=True, indent=4))\n",
    "\n",
    "month_name = cfg.MONTH_NAME"
   ]
  },
  {
   "attachments": {},
   "cell_type": "markdown",
   "metadata": {
    "tags": [
     "remove-cell"
    ]
   },
   "source": [
    "## Preprocessing"
   ]
  },
  {
   "cell_type": "code",
   "execution_count": 4,
   "metadata": {
    "tags": [
     "remove-cell"
    ]
   },
   "outputs": [
    {
     "name": "stdout",
     "output_type": "stream",
     "text": [
      "The response contains:\n",
      "[\n",
      "    \"kw-tr\",\n",
      "    \"aa-potencia-activa\",\n",
      "    \"front-consumo-activa\",\n",
      "    \"front-potencia-activa\",\n",
      "    \"consumo-energia-reactiva-inductiva\",\n",
      "    \"tr\",\n",
      "    \"aa-consumo-activa\",\n",
      "    \"factor-de-potencia\"\n",
      "]\n",
      "[\n",
      "    \"bc-777---parque-washington\"\n",
      "]\n"
     ]
    }
   ],
   "source": [
    "df_info = pd.read_excel(project_path / 'tools' / \"AMH Sedes BC.xlsx\")\n",
    "\n",
    "#df = pd.read_pickle(project_path / 'data' / _PICKLED_DATA_FILENAME)\n",
    "df = pd.read_pickle(r\"C:\\Proyectos Digitalización\\Bancolombia\\CB_informe_Fase_2\\data\\data_weekly_report.pkl\")\n",
    "df = df.query(\"device_name == @DEVICE_NAME\")\n",
    "\n",
    "# Legacy code (including the library) expects these column names\n",
    "# but the new Ubidots library returns more specific column names\n",
    "# so renaming is necessary. TODO: rework the Report library\n",
    "# so that it uses these more descriptive column names.\n",
    "df = df.rename(columns={'variable_label':'variable','device_label':'device',})\n",
    "\n",
    "show_response_contents(df)"
   ]
  },
  {
   "cell_type": "code",
   "execution_count": 5,
   "metadata": {
    "tags": [
     "remove-cell"
    ]
   },
   "outputs": [],
   "source": [
    "df = df.sort_values(by=['variable','datetime'])\n",
    "df = pro.datetime_attributes(df)\n",
    "\n",
    "df_bl, df_st, df_pm = pro.split_total(df, baseline=cfg.BASELINE, study=cfg.STUDY, past_month=cfg.PAST_MONTH, inclusive='left')\n",
    "\n",
    "study_daterange = pd.Series(pd.date_range(start=cfg.STUDY[0], end=cfg.STUDY[1], freq='D'))\n",
    "\n",
    "\n",
    "\n",
    "\n",
    "\n",
    "# df_cons = df.query(\"variable == 'front-consumo-activa'\")\n",
    "# df_ea = cln.recover_energy_from_consumption(df_cons, new_varname='front-energia-activa-acumulada')\n",
    "# df_pa_synth = cln.differentiate_single_variable(df_ea, 'front-potencia-activa-sintetica', remove_gap_data=True)\n",
    "# df_ea_interp = cln.linearly_interpolate_series(df_ea, data_rate_in_minutes=None)"
   ]
  },
  {
   "cell_type": "code",
   "execution_count": 6,
   "metadata": {
    "tags": [
     "remove-cell"
    ]
   },
   "outputs": [
    {
     "ename": "ValueError",
     "evalue": "No objects to concatenate",
     "output_type": "error",
     "traceback": [
      "\u001b[1;31m---------------------------------------------------------------------------\u001b[0m",
      "\u001b[1;31mValueError\u001b[0m                                Traceback (most recent call last)",
      "Cell \u001b[1;32mIn[6], line 11\u001b[0m\n\u001b[0;32m      8\u001b[0m meses \u001b[38;5;241m=\u001b[39m pd\u001b[38;5;241m.\u001b[39mconcat([front_past, front])\n\u001b[0;32m     10\u001b[0m df_pa \u001b[38;5;241m=\u001b[39m cln\u001b[38;5;241m.\u001b[39mremove_outliers_by_zscore(df_pa, zscore\u001b[38;5;241m=\u001b[39m\u001b[38;5;241m4\u001b[39m)\n\u001b[1;32m---> 11\u001b[0m cargas \u001b[38;5;241m=\u001b[39m \u001b[43mcln\u001b[49m\u001b[38;5;241;43m.\u001b[39;49m\u001b[43mremove_outliers_by_zscore\u001b[49m\u001b[43m(\u001b[49m\u001b[43mcargas\u001b[49m\u001b[43m,\u001b[49m\u001b[43m \u001b[49m\u001b[43mzscore\u001b[49m\u001b[38;5;241;43m=\u001b[39;49m\u001b[38;5;241;43m4\u001b[39;49m\u001b[43m)\u001b[49m\n\u001b[0;32m     12\u001b[0m front \u001b[38;5;241m=\u001b[39m cln\u001b[38;5;241m.\u001b[39mremove_outliers_by_zscore(front, zscore\u001b[38;5;241m=\u001b[39m\u001b[38;5;241m4\u001b[39m)\n\u001b[0;32m     13\u001b[0m \u001b[38;5;66;03m#front_reactiva = cln.remove_outliers_by_zscore(front_reactiva, zscore=4)\u001b[39;00m\n",
      "File \u001b[1;32mC:\\Proyectos Digitalización\\Bancolombia\\Informe_Mensual_fase2\\library_report_v2.py:246\u001b[0m, in \u001b[0;36mCleaning.remove_outliers_by_zscore\u001b[1;34m(df, zscore)\u001b[0m\n\u001b[0;32m    243\u001b[0m         z_scores \u001b[38;5;241m=\u001b[39m stats\u001b[38;5;241m.\u001b[39mzscore(df_var[\u001b[38;5;124m'\u001b[39m\u001b[38;5;124mvalue\u001b[39m\u001b[38;5;124m'\u001b[39m], nan_policy\u001b[38;5;241m=\u001b[39m\u001b[38;5;124m'\u001b[39m\u001b[38;5;124momit\u001b[39m\u001b[38;5;124m'\u001b[39m)\n\u001b[0;32m    244\u001b[0m         lst_df\u001b[38;5;241m.\u001b[39mappend(df_var[\u001b[38;5;28mabs\u001b[39m(z_scores) \u001b[38;5;241m<\u001b[39m zscore])\n\u001b[1;32m--> 246\u001b[0m \u001b[38;5;28;01mreturn\u001b[39;00m \u001b[43mpd\u001b[49m\u001b[38;5;241;43m.\u001b[39;49m\u001b[43mconcat\u001b[49m\u001b[43m(\u001b[49m\u001b[43mlst_df\u001b[49m\u001b[43m)\u001b[49m\n",
      "File \u001b[1;32m~\\.conda\\envs\\nuevo2-env\\lib\\site-packages\\pandas\\util\\_decorators.py:331\u001b[0m, in \u001b[0;36mdeprecate_nonkeyword_arguments.<locals>.decorate.<locals>.wrapper\u001b[1;34m(*args, **kwargs)\u001b[0m\n\u001b[0;32m    325\u001b[0m \u001b[38;5;28;01mif\u001b[39;00m \u001b[38;5;28mlen\u001b[39m(args) \u001b[38;5;241m>\u001b[39m num_allow_args:\n\u001b[0;32m    326\u001b[0m     warnings\u001b[38;5;241m.\u001b[39mwarn(\n\u001b[0;32m    327\u001b[0m         msg\u001b[38;5;241m.\u001b[39mformat(arguments\u001b[38;5;241m=\u001b[39m_format_argument_list(allow_args)),\n\u001b[0;32m    328\u001b[0m         \u001b[38;5;167;01mFutureWarning\u001b[39;00m,\n\u001b[0;32m    329\u001b[0m         stacklevel\u001b[38;5;241m=\u001b[39mfind_stack_level(),\n\u001b[0;32m    330\u001b[0m     )\n\u001b[1;32m--> 331\u001b[0m \u001b[38;5;28;01mreturn\u001b[39;00m func(\u001b[38;5;241m*\u001b[39margs, \u001b[38;5;241m*\u001b[39m\u001b[38;5;241m*\u001b[39mkwargs)\n",
      "File \u001b[1;32m~\\.conda\\envs\\nuevo2-env\\lib\\site-packages\\pandas\\core\\reshape\\concat.py:368\u001b[0m, in \u001b[0;36mconcat\u001b[1;34m(objs, axis, join, ignore_index, keys, levels, names, verify_integrity, sort, copy)\u001b[0m\n\u001b[0;32m    146\u001b[0m \u001b[38;5;129m@deprecate_nonkeyword_arguments\u001b[39m(version\u001b[38;5;241m=\u001b[39m\u001b[38;5;28;01mNone\u001b[39;00m, allowed_args\u001b[38;5;241m=\u001b[39m[\u001b[38;5;124m\"\u001b[39m\u001b[38;5;124mobjs\u001b[39m\u001b[38;5;124m\"\u001b[39m])\n\u001b[0;32m    147\u001b[0m \u001b[38;5;28;01mdef\u001b[39;00m \u001b[38;5;21mconcat\u001b[39m(\n\u001b[0;32m    148\u001b[0m     objs: Iterable[NDFrame] \u001b[38;5;241m|\u001b[39m Mapping[HashableT, NDFrame],\n\u001b[1;32m   (...)\u001b[0m\n\u001b[0;32m    157\u001b[0m     copy: \u001b[38;5;28mbool\u001b[39m \u001b[38;5;241m=\u001b[39m \u001b[38;5;28;01mTrue\u001b[39;00m,\n\u001b[0;32m    158\u001b[0m ) \u001b[38;5;241m-\u001b[39m\u001b[38;5;241m>\u001b[39m DataFrame \u001b[38;5;241m|\u001b[39m Series:\n\u001b[0;32m    159\u001b[0m \u001b[38;5;250m    \u001b[39m\u001b[38;5;124;03m\"\"\"\u001b[39;00m\n\u001b[0;32m    160\u001b[0m \u001b[38;5;124;03m    Concatenate pandas objects along a particular axis.\u001b[39;00m\n\u001b[0;32m    161\u001b[0m \n\u001b[1;32m   (...)\u001b[0m\n\u001b[0;32m    366\u001b[0m \u001b[38;5;124;03m    1   3   4\u001b[39;00m\n\u001b[0;32m    367\u001b[0m \u001b[38;5;124;03m    \"\"\"\u001b[39;00m\n\u001b[1;32m--> 368\u001b[0m     op \u001b[38;5;241m=\u001b[39m \u001b[43m_Concatenator\u001b[49m\u001b[43m(\u001b[49m\n\u001b[0;32m    369\u001b[0m \u001b[43m        \u001b[49m\u001b[43mobjs\u001b[49m\u001b[43m,\u001b[49m\n\u001b[0;32m    370\u001b[0m \u001b[43m        \u001b[49m\u001b[43maxis\u001b[49m\u001b[38;5;241;43m=\u001b[39;49m\u001b[43maxis\u001b[49m\u001b[43m,\u001b[49m\n\u001b[0;32m    371\u001b[0m \u001b[43m        \u001b[49m\u001b[43mignore_index\u001b[49m\u001b[38;5;241;43m=\u001b[39;49m\u001b[43mignore_index\u001b[49m\u001b[43m,\u001b[49m\n\u001b[0;32m    372\u001b[0m \u001b[43m        \u001b[49m\u001b[43mjoin\u001b[49m\u001b[38;5;241;43m=\u001b[39;49m\u001b[43mjoin\u001b[49m\u001b[43m,\u001b[49m\n\u001b[0;32m    373\u001b[0m \u001b[43m        \u001b[49m\u001b[43mkeys\u001b[49m\u001b[38;5;241;43m=\u001b[39;49m\u001b[43mkeys\u001b[49m\u001b[43m,\u001b[49m\n\u001b[0;32m    374\u001b[0m \u001b[43m        \u001b[49m\u001b[43mlevels\u001b[49m\u001b[38;5;241;43m=\u001b[39;49m\u001b[43mlevels\u001b[49m\u001b[43m,\u001b[49m\n\u001b[0;32m    375\u001b[0m \u001b[43m        \u001b[49m\u001b[43mnames\u001b[49m\u001b[38;5;241;43m=\u001b[39;49m\u001b[43mnames\u001b[49m\u001b[43m,\u001b[49m\n\u001b[0;32m    376\u001b[0m \u001b[43m        \u001b[49m\u001b[43mverify_integrity\u001b[49m\u001b[38;5;241;43m=\u001b[39;49m\u001b[43mverify_integrity\u001b[49m\u001b[43m,\u001b[49m\n\u001b[0;32m    377\u001b[0m \u001b[43m        \u001b[49m\u001b[43mcopy\u001b[49m\u001b[38;5;241;43m=\u001b[39;49m\u001b[43mcopy\u001b[49m\u001b[43m,\u001b[49m\n\u001b[0;32m    378\u001b[0m \u001b[43m        \u001b[49m\u001b[43msort\u001b[49m\u001b[38;5;241;43m=\u001b[39;49m\u001b[43msort\u001b[49m\u001b[43m,\u001b[49m\n\u001b[0;32m    379\u001b[0m \u001b[43m    \u001b[49m\u001b[43m)\u001b[49m\n\u001b[0;32m    381\u001b[0m     \u001b[38;5;28;01mreturn\u001b[39;00m op\u001b[38;5;241m.\u001b[39mget_result()\n",
      "File \u001b[1;32m~\\.conda\\envs\\nuevo2-env\\lib\\site-packages\\pandas\\core\\reshape\\concat.py:425\u001b[0m, in \u001b[0;36m_Concatenator.__init__\u001b[1;34m(self, objs, axis, join, keys, levels, names, ignore_index, verify_integrity, copy, sort)\u001b[0m\n\u001b[0;32m    422\u001b[0m     objs \u001b[38;5;241m=\u001b[39m \u001b[38;5;28mlist\u001b[39m(objs)\n\u001b[0;32m    424\u001b[0m \u001b[38;5;28;01mif\u001b[39;00m \u001b[38;5;28mlen\u001b[39m(objs) \u001b[38;5;241m==\u001b[39m \u001b[38;5;241m0\u001b[39m:\n\u001b[1;32m--> 425\u001b[0m     \u001b[38;5;28;01mraise\u001b[39;00m \u001b[38;5;167;01mValueError\u001b[39;00m(\u001b[38;5;124m\"\u001b[39m\u001b[38;5;124mNo objects to concatenate\u001b[39m\u001b[38;5;124m\"\u001b[39m)\n\u001b[0;32m    427\u001b[0m \u001b[38;5;28;01mif\u001b[39;00m keys \u001b[38;5;129;01mis\u001b[39;00m \u001b[38;5;28;01mNone\u001b[39;00m:\n\u001b[0;32m    428\u001b[0m     objs \u001b[38;5;241m=\u001b[39m \u001b[38;5;28mlist\u001b[39m(com\u001b[38;5;241m.\u001b[39mnot_none(\u001b[38;5;241m*\u001b[39mobjs))\n",
      "\u001b[1;31mValueError\u001b[0m: No objects to concatenate"
     ]
    }
   ],
   "source": [
    "df_pa = df.query(\"variable == 'front-potencia-activa'\").copy()\n",
    "cargas = df_st[df_st[\"variable\"].isin(cfg.ENERGY_VAR_LABELS)].copy()\n",
    "front = df_st[df_st[\"variable\"].isin(['front-consumo-activa'])].copy()\n",
    "front_pastmonth = df_pm[df_pm[\"variable\"].isin(['front-consumo-activa'])].copy()\n",
    "#front_reactiva = df_st[df_st[\"variable\"].isin(['consumo-energia-reactiva-total'])].copy()\n",
    "\n",
    "front_past = df_bl[df_bl[\"variable\"].isin(['front-consumo-activa'])].copy()\n",
    "meses = pd.concat([front_past, front])\n",
    "\n",
    "df_pa = cln.remove_outliers_by_zscore(df_pa, zscore=4)\n",
    "cargas = cln.remove_outliers_by_zscore(cargas, zscore=4)\n",
    "front = cln.remove_outliers_by_zscore(front, zscore=4)\n",
    "#front_reactiva = cln.remove_outliers_by_zscore(front_reactiva, zscore=4)\n",
    "front_pastmonth = cln.remove_outliers_by_zscore(front_pastmonth, zscore=4)\n",
    "meses = cln.remove_outliers_by_zscore(meses, zscore=4)\n",
    "\n",
    "meses['value'] = meses['value'].round(2)"
   ]
  },
  {
   "cell_type": "code",
   "execution_count": null,
   "metadata": {
    "tags": [
     "remove-cell"
    ]
   },
   "outputs": [],
   "source": [
    "cargas_hour = cargas.groupby(by=[\"variable\"]).resample('1h').sum().round(2).reset_index().set_index('datetime')\n",
    "cargas_hour = pro.datetime_attributes(cargas_hour)\n",
    "\n",
    "cargas_day = cargas.groupby(by=[\"variable\"]).resample('1D').sum().reset_index().set_index('datetime')\n",
    "cargas_day = pro.datetime_attributes(cargas_day)\n",
    "\n",
    "cargas_month = cargas.groupby(by=[\"variable\"]).resample('1M').sum().reset_index().set_index('datetime')\n",
    "cargas_month = pro.datetime_attributes(cargas_month)\n",
    "\n",
    "front_hour = front.groupby(by=[\"variable\"]).resample('1h').sum().round(2).reset_index().set_index('datetime')\n",
    "front_hour = pro.datetime_attributes(front_hour)\n",
    "\n",
    "front_day = front.groupby(by=[\"variable\"]).resample('1D').sum().reset_index().set_index('datetime')\n",
    "front_day = pro.datetime_attributes(front_day)\n",
    "\n",
    "front_month = front.groupby(by=[\"variable\"]).resample('1M').sum().reset_index().set_index('datetime')\n",
    "front_month = pro.datetime_attributes(front_month)\n",
    "\n",
    "#front_reactiva_hour = front_reactiva.groupby(by=[\"variable\"]).resample('1h').sum().round(2).reset_index().set_index('datetime')\n",
    "#front_reactiva_hour = pro.datetime_attributes(front_reactiva_hour)\n",
    "\n",
    "front_pastmonth_month = front_pastmonth.groupby(by=[\"variable\"]).resample('1M').sum().reset_index().set_index('datetime')\n",
    "front_pastmonth_month = pro.datetime_attributes(front_pastmonth_month)\n",
    "\n",
    "front_meses = front.groupby(by=[\"variable\"]).resample('1M').sum().reset_index().set_index('datetime')\n",
    "front_month = pro.datetime_attributes(front_month)\n",
    "\n",
    "meses_agrupados = meses.groupby(['variable', pd.Grouper(freq='M')]).agg({'value': 'sum', 'hour': 'first', 'day': 'first', 'cont_dow': 'first', 'week': 'first', 'month': 'first', 'year': 'first', 'dow': 'first'}).reset_index()"
   ]
  },
  {
   "cell_type": "code",
   "execution_count": null,
   "metadata": {
    "tags": [
     "remove-cell"
    ]
   },
   "outputs": [],
   "source": [
    "meses_calendario = [\n",
    "    \"Enero\", \"Febrero\", \"Marzo\", \"Abril\", \"Mayo\", \"Junio\",\n",
    "    \"Julio\", \"Agosto\", \"Septiembre\", \"Octubre\", \"Noviembre\", \"Diciembre\"\n",
    "]"
   ]
  },
  {
   "attachments": {},
   "cell_type": "markdown",
   "metadata": {
    "tags": [
     "remove-cell"
    ]
   },
   "source": [
    "## Plots"
   ]
  },
  {
   "cell_type": "code",
   "execution_count": null,
   "metadata": {
    "tags": [
     "remove-input"
    ]
   },
   "outputs": [],
   "source": [
    "fig = px.bar(\n",
    "    pd.concat([cargas_day, front_day]),\n",
    "    x=\"day\",\n",
    "    y=\"value\",\n",
    "    barmode='group',\n",
    "    color='variable',\n",
    "    color_discrete_sequence=repcfg.FULL_PALETTE,\n",
    "    labels={'day':'Día', 'value':'Consumo [kWh]'},\n",
    "    title=f\"{DEVICE_NAME}: Consumo diario de energía activa [kWh] en {month_name}\",\n",
    ")\n",
    "\n",
    "fig.update_layout(\n",
    "    font_family=repcfg.CELSIA_FONT,\n",
    "    font_size=repcfg.PLOTLY_TITLE_FONT_SIZE,\n",
    "    font_color=repcfg.FULL_PALETTE[1],\n",
    "    title_x=repcfg.PLOTLY_TITLE_X,\n",
    "    width=repcfg.JBOOK_PLOTLY_WIDTH,\n",
    "    height=repcfg.JBOOK_PLOTLY_HEIGHT\n",
    ")\n",
    "\n",
    "fig.show()"
   ]
  },
  {
   "cell_type": "code",
   "execution_count": null,
   "metadata": {
    "tags": [
     "remove-input"
    ]
   },
   "outputs": [],
   "source": [
    "front_cons_total = front_month.iloc[-1][\"value\"]\n",
    "front_pastmonth_total = front_pastmonth_month.iloc[-1][\"value\"]\n",
    "dif_mes_anterior =front_month.iloc[-1][\"value\"] - front_pastmonth_month.iloc[-1][\"value\"]\n",
    "\n",
    "# Obtener el nombre del mes correspondiente al número de mes\n",
    "mes_numero = front_month.iloc[-1][\"month\"]\n",
    "mes_anterior = front_pastmonth_month.iloc[-1][\"month\"]\n",
    "\n",
    "mes_correspondiente = meses_calendario[int(mes_numero) - 1]\n",
    "mes_anterior_2  = meses_calendario[int(mes_anterior) - 1]\n",
    "\n",
    "# Cálculo de la diferencia de consumo entre el mes actual y el mes anterior\n",
    "dif_mes_anterior = front_month.iloc[-1][\"value\"] - front_pastmonth_month.iloc[-1][\"value\"]\n",
    "\n",
    "# Obtener el nombre del mes actual y del mes anterior\n",
    "mes_correspondiente = meses_calendario[int(front_month.iloc[-1][\"month\"]) - 1]\n",
    "mes_anterior = meses_calendario[int(front_pastmonth_month.iloc[-1][\"month\"]) - 1]\n",
    "\n",
    "print(f\"El consumo de energía de {mes_correspondiente} fue {front_cons_total:.0f} kWh\")\n",
    "\n",
    "# Imprimir mensaje según la diferencia de consumo\n",
    "if dif_mes_anterior > 0:\n",
    "    porcentaje_mas = dif_mes_anterior / front_pastmonth_month.iloc[-1][\"value\"] * 100\n",
    "    print(f\"Para el mes de {mes_correspondiente} se consumió {dif_mes_anterior:.0f} kWh más en comparación al mes anterior {mes_anterior} con {front_pastmonth_total:.0f}, lo que representa un {porcentaje_mas:.2f}% más de consumo\")\n",
    "elif dif_mes_anterior < 0:\n",
    "    porcentaje_menos = abs(dif_mes_anterior) / front_pastmonth_month.iloc[-1][\"value\"] * 100\n",
    "    print(f\"Para el mes de {mes_correspondiente} se consumió {abs(dif_mes_anterior):.0f} kWh menos en comparación al mes anterior {mes_anterior} con {front_pastmonth_total:.0f}, lo que representa un {porcentaje_menos:.2f}% menos de consumo\")\n",
    "else:\n",
    "    print(f\"No hubo cambios en el consumo entre el mes de {mes_correspondiente} y el mes anterior {mes_anterior}\")"
   ]
  },
  {
   "cell_type": "code",
   "execution_count": null,
   "metadata": {
    "tags": [
     "remove-input"
    ]
   },
   "outputs": [],
   "source": [
    "df_front_cargas = pd.concat([front, cargas])\n",
    "\n",
    "cargas_nighttime_cons = df_front_cargas[df_front_cargas[\"hour\"].isin(cfg.NIGHT_HOURS)].copy()\n",
    "cargas_nighttime_cons = pro.datetime_attributes(cargas_nighttime_cons)\n",
    "\n",
    "cargas_daily_nighttime_cons = (\n",
    "    cargas_nighttime_cons\n",
    "    .groupby(['variable','day'])['value']\n",
    "    .sum()\n",
    "    .to_frame()\n",
    ")\n",
    "\n",
    "if (cargas_daily_nighttime_cons.shape[0] > 0):\n",
    "    fig = px.bar(\n",
    "        cargas_daily_nighttime_cons.reset_index(),\n",
    "        x=\"day\",\n",
    "        y=\"value\",\n",
    "        barmode='group',\n",
    "        color='variable',\n",
    "        color_discrete_sequence=repcfg.FULL_PALETTE,\n",
    "        labels={'day':'Día', 'variable':'Medición', 'value':'Consumo [kWh]'},\n",
    "        title=f\"{DEVICE_NAME}: Consumo nocturno de energía activa [kWh] en {month_name}\",\n",
    "    )\n",
    "\n",
    "    fig.update_layout(\n",
    "        font_family=repcfg.CELSIA_FONT,\n",
    "        font_size=repcfg.PLOTLY_TITLE_FONT_SIZE,\n",
    "        font_color=repcfg.FULL_PALETTE[1],\n",
    "        title_x=repcfg.PLOTLY_TITLE_X,\n",
    "        width=repcfg.JBOOK_PLOTLY_WIDTH,\n",
    "        height=repcfg.JBOOK_PLOTLY_HEIGHT\n",
    "    )\n",
    "\n",
    "    # fig.update_traces(marker_color=grp.hex_to_rgb(repcfg.FULL_PALETTE[0]))\n",
    "    fig.show()"
   ]
  },
  {
   "cell_type": "code",
   "execution_count": null,
   "metadata": {
    "tags": [
     "remove-input"
    ]
   },
   "outputs": [],
   "source": [
    "total_night_cons = cargas_daily_nighttime_cons.query(\"variable == 'front-consumo-activa'\")\n",
    "consumo_nocturno = total_night_cons[\"value\"].sum()\n",
    "\n",
    "print(f\"Durante el mes pasado se consumió un total de {consumo_nocturno:.0f}kWh fuera del horario establecido.\")"
   ]
  },
  {
   "cell_type": "code",
   "execution_count": null,
   "metadata": {
    "tags": [
     "remove-input"
    ]
   },
   "outputs": [],
   "source": [
    "total_night_cons = cargas_daily_nighttime_cons.query(\"variable == 'front-consumo-activa'\")\n",
    "consumo_nocturno = total_night_cons[\"value\"].sum()\n",
    "\n",
    "night_cons_percent = 100 * consumo_nocturno / front_cons_total\n",
    "\n",
    "print(f\"El consumo nocturno representó el {night_cons_percent:.1f}% del consumo total\")"
   ]
  },
  {
   "cell_type": "code",
   "execution_count": null,
   "metadata": {
    "tags": [
     "remove-input"
    ]
   },
   "outputs": [],
   "source": [
    "cargas_cons_total = cargas_month['value'].sum()\n",
    "consumo_otros =  front_cons_total - cargas_cons_total\n",
    "\n",
    "if (consumo_otros < 0):\n",
    "    consumo_otros = 0\n",
    "\n",
    "df_pie = cargas_month[['variable','value']].copy()\n",
    "\n",
    "df_pie.loc[-1] = ['otros', consumo_otros]\n",
    "df_pie = df_pie.reset_index(drop=True)\n",
    "df_pie['value'] = df_pie['value'].round(1)\n",
    "\n",
    "\n",
    "if (df_pie.value >= 0).all():\n",
    "    fig = px.pie(\n",
    "        df_pie, \n",
    "        values=\"value\", \n",
    "        names='variable', \n",
    "        hover_data=['value'], \n",
    "        labels={'variable':'Carga', 'value':'Consumo [kWh]'},\n",
    "        title=f\"{DEVICE_NAME}: Consumo total de energía activa por carga [kWh]\",\n",
    "        color_discrete_sequence=repcfg.FULL_PALETTE, \n",
    "    )\n",
    "\n",
    "    fig.update_layout(\n",
    "        font_family=repcfg.CELSIA_FONT,\n",
    "        font_size=repcfg.PLOTLY_TITLE_FONT_SIZE,\n",
    "        font_color=repcfg.FULL_PALETTE[1],\n",
    "        title_x=repcfg.PLOTLY_TITLE_X,\n",
    "        width=repcfg.JBOOK_PLOTLY_WIDTH,\n",
    "        height=repcfg.JBOOK_PLOTLY_HEIGHT\n",
    "    )\n",
    "\n",
    "    fig.update_traces(\n",
    "        textposition='inside', \n",
    "        textinfo='percent', \n",
    "        insidetextorientation='radial'\n",
    "    )\n",
    "\n",
    "    fig.update(\n",
    "        layout_showlegend=True\n",
    "    )\n",
    "\n",
    "    fig.show()"
   ]
  },
  {
   "cell_type": "code",
   "execution_count": null,
   "metadata": {
    "tags": [
     "remove-input"
    ]
   },
   "outputs": [],
   "source": [
    "df_plot = pd.concat([front_hour, cargas_hour])\n",
    "\n",
    "list_vars = [\n",
    "    'front-consumo-activa',\n",
    "    'aa-consumo-activa',\n",
    "    'ilu-consumo-activa'\n",
    "]\n",
    "\n",
    "alpha = 0.75\n",
    "fig = go.Figure()\n",
    "hex_color_primary = repcfg.FULL_PALETTE[0]\n",
    "hex_color_secondary = repcfg.FULL_PALETTE[1]\n",
    "\n",
    "idx = 0\n",
    "for variable in list_vars:\n",
    "    df_var = df_plot.query(\"variable == @variable\")\n",
    "    hex_color = repcfg.FULL_PALETTE[idx % len(repcfg.FULL_PALETTE)]\n",
    "    rgba_color = grp.hex_to_rgb(hex_color, alpha)\n",
    "    idx += 1\n",
    "\n",
    "    if (len(df_var) > 0):\n",
    "        fig.add_trace(go.Scatter(\n",
    "            x=df_var.index,\n",
    "            y=df_var.value,\n",
    "            line_color=rgba_color,\n",
    "            name=variable,\n",
    "            showlegend=True,\n",
    "        ))\n",
    "\n",
    "\n",
    "\n",
    "fig.update_layout(\n",
    "    title=f\"{DEVICE_NAME}: Consumo de energía activa [kWh]\",\n",
    "    font_family=repcfg.CELSIA_FONT,\n",
    "    font_size=repcfg.PLOTLY_TITLE_FONT_SIZE,\n",
    "    font_color=repcfg.FULL_PALETTE[1],\n",
    "    title_x=repcfg.PLOTLY_TITLE_X,\n",
    "    width=repcfg.JBOOK_PLOTLY_WIDTH,\n",
    "    height=repcfg.JBOOK_PLOTLY_HEIGHT,\n",
    "    yaxis=dict(title_text=\"Consumo Activa [kWh]\")\n",
    ")\n",
    "\n",
    "fig.update_traces(mode='lines')\n",
    "# fig.update_xaxes(rangemode=\"tozero\")\n",
    "fig.update_yaxes(rangemode=\"tozero\")\n",
    "fig.show()\n"
   ]
  },
  {
   "cell_type": "code",
   "execution_count": null,
   "metadata": {
    "tags": [
     "remove-input"
    ]
   },
   "outputs": [],
   "source": [
    "df_pa_bl, df_pa_st = pro.split_into_baseline_and_study(df_pa, baseline=cfg.BASELINE, study=cfg.STUDY, inclusive='both')\n",
    "\n",
    "if (len(df_pa_bl) > 0) & (len(df_pa_st) > 0):\n",
    "    df_pa_bl_day = (\n",
    "        df_pa_bl\n",
    "        .reset_index()\n",
    "        .groupby(['device_name','variable','hour'])['value']\n",
    "        .agg(['median','mean','std','min',pro.q_low,pro.q_high,'max','count'])\n",
    "        .reset_index()\n",
    "    )\n",
    "\n",
    "    df_pa_st_day = (\n",
    "        df_pa_st\n",
    "        .reset_index()\n",
    "        .groupby(['device_name','variable','hour'])['value']\n",
    "        .agg(['median','mean','std','min',pro.q_low,pro.q_high,'max','count'])\n",
    "        .reset_index()\n",
    "    )\n",
    "\n",
    "    grp.compare_baseline_day_by_hour(\n",
    "        df_pa_bl_day,\n",
    "        df_pa_st_day,\n",
    "        title=f\"{DEVICE_NAME}: Día típico\",\n",
    "        bl_label=\"Promedio línea base\",\n",
    "        st_label=f\"Promedio {month_name}\",\n",
    "        bl_ci_label=\"Intervalo línea base\",\n",
    "        include_ci=True,\n",
    "        fill_ci=True\n",
    "    )\n",
    "\n",
    "\n",
    "    df_pa_bl_week = (\n",
    "        df_pa_bl\n",
    "        .reset_index()\n",
    "        .groupby(['device_name','variable','cont_dow'])['value']\n",
    "        .agg(['median','mean','std','min',pro.q_low,pro.q_high,'max','count'])\n",
    "        .reset_index()\n",
    "    )\n",
    "\n",
    "    df_pa_st_week = (\n",
    "        df_pa_st\n",
    "        .reset_index()\n",
    "        .groupby(['device_name','variable','cont_dow'])['value']\n",
    "        .agg(['median','mean','std','min',pro.q_low,pro.q_high,'max','count'])\n",
    "        .reset_index()\n",
    "    )\n",
    "\n",
    "    grp.compare_baseline_week_by_day(\n",
    "        df_pa_bl_week,\n",
    "        df_pa_st_week,\n",
    "        title=f\"{DEVICE_NAME}: Semana típica\",\n",
    "        bl_label=\"Promedio línea base\",\n",
    "        st_label=f\"Promedio {month_name}\",\n",
    "        bl_ci_label=\"Intervalo línea base\",\n",
    "        include_ci=True,\n",
    "        fill_ci=True\n",
    "    )"
   ]
  },
  {
   "cell_type": "code",
   "execution_count": null,
   "metadata": {
    "tags": [
     "remove-input"
    ]
   },
   "outputs": [],
   "source": [
    "matrix = front_hour.pivot(index='day', columns='hour', values='value')\n",
    "\n",
    "if (matrix.shape[0] > 0) & (matrix.shape[1] > 0):\n",
    "    data = grp.pivoted_dataframe_to_plotly_heatmap(matrix)\n",
    "    grp.hourly_heatmap(\n",
    "        data,\n",
    "        title=f\"Frontera: Consumo total de energía activa [kWh] en {month_name}\"\n",
    "    )"
   ]
  },
  {
   "cell_type": "code",
   "execution_count": null,
   "metadata": {
    "tags": [
     "remove-input"
    ]
   },
   "outputs": [],
   "source": [
    "matrix = (\n",
    "    cargas_hour\n",
    "    .groupby(by=[\"day\",\"hour\"]).sum().reset_index()\n",
    "    .pivot(index='day', columns='hour', values='value')\n",
    ")\n",
    "\n",
    "if (matrix.shape[0] > 0) & (matrix.shape[1] > 0):\n",
    "    data = grp.pivoted_dataframe_to_plotly_heatmap(matrix)\n",
    "    grp.hourly_heatmap(\n",
    "        data,\n",
    "        title=f\"Cargas: Consumo total de energía activa [kWh] en {month_name}\"\n",
    "    )"
   ]
  },
  {
   "cell_type": "code",
   "execution_count": null,
   "metadata": {
    "tags": [
     "remove-input"
    ]
   },
   "outputs": [],
   "source": [
    "\n",
    "meses_agrupados['fecha'] = meses_agrupados['month'].astype(str) + '-' + meses_agrupados['year'].astype(str)\n",
    "\n",
    "fig = px.bar(\n",
    "    pd.concat([meses_agrupados]),\n",
    "    x=\"fecha\",\n",
    "    y=\"value\",\n",
    "    barmode='group',\n",
    "    color='variable',\n",
    "    color_discrete_sequence=repcfg.FULL_PALETTE,\n",
    "    labels={'month':'Mes', 'value':'Consumo [kWh/mes]'},\n",
    "    title=f\"{DEVICE_NAME}: Consumo mensuales de energía activa [kWh/Mes]\",\n",
    ")\n",
    "\n",
    "fig.add_hline(y=meses_agrupados['value'].mean(), line_dash=\"dash\", line_color=repcfg.FULL_PALETTE[1], annotation_text=f\"Línea base: {meses_agrupados['value'].mean():.2f} kWh/dia\", annotation_position=\"top left\")\n",
    "\n",
    "\n",
    "fig.update_layout(\n",
    "    font_family=repcfg.CELSIA_FONT,\n",
    "    font_size=repcfg.PLOTLY_TITLE_FONT_SIZE,\n",
    "    font_color=repcfg.FULL_PALETTE[1],\n",
    "    title_x=repcfg.PLOTLY_TITLE_X,\n",
    "    width=repcfg.JBOOK_PLOTLY_WIDTH,\n",
    "    height=repcfg.JBOOK_PLOTLY_HEIGHT\n",
    ")\n",
    "\n",
    "fig.show()\n",
    "\n"
   ]
  }
 ],
 "metadata": {
  "kernelspec": {
   "display_name": "nuevo2-env",
   "language": "python",
   "name": "python3"
  },
  "language_info": {
   "codemirror_mode": {
    "name": "ipython",
    "version": 3
   },
   "file_extension": ".py",
   "mimetype": "text/x-python",
   "name": "python",
   "nbconvert_exporter": "python",
   "pygments_lexer": "ipython3",
   "version": "3.9.16"
  },
  "vscode": {
   "interpreter": {
    "hash": "a3ed1408207adb65ea76cc73f6a4a844ab927e5dee5cd8790bd3d1eac84bb653"
   }
  }
 },
 "nbformat": 4,
 "nbformat_minor": 4
}